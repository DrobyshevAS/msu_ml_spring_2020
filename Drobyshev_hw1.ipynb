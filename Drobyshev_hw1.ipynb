{
  "nbformat": 4,
  "nbformat_minor": 0,
  "metadata": {
    "kernelspec": {
      "display_name": "Python [anaconda]",
      "language": "python",
      "name": "Python [anaconda]"
    },
    "language_info": {
      "codemirror_mode": {
        "name": "ipython",
        "version": 3
      },
      "file_extension": ".py",
      "mimetype": "text/x-python",
      "name": "python",
      "nbconvert_exporter": "python",
      "pygments_lexer": "ipython3",
      "version": "3.5.4"
    },
    "colab": {
      "name": "hw1.ipynb",
      "provenance": [],
      "collapsed_sections": []
    }
  },
  "cells": [
    {
      "cell_type": "markdown",
      "metadata": {
        "id": "PDylaHgIBcIV"
      },
      "source": [
        "**Общая информация**\n",
        "\n",
        "**Срок сдачи:** 29 марта 2021, 08:30 \n",
        "\n",
        "**Штраф за опоздание:** по 1 баллу за 24 часа задержки. Через 5 дней домашнее задание сгорает.\n",
        "\n",
        "При отправлении ДЗ указывайте фамилию в названии файла\n",
        "Присылать ДЗ необходимо в виде ссылки на свой github репозиторий на почту ml1.sphere@mail.ru с указанием темы в следующем формате:\n",
        "\n",
        "[ML0220, Задание 1] Фамилия Имя.\n",
        "\n",
        "Используйте данный Ipython Notebook при оформлении домашнего задания."
      ]
    },
    {
      "cell_type": "markdown",
      "metadata": {
        "id": "UiTilR9XBcIZ"
      },
      "source": [
        "\n",
        "**Штрафные баллы:**\n",
        "\n",
        "1. Отсутствие фамилии в имени скрипта (скрипт должен называться по аналогии со stroykova_hw1.ipynb) -0.5 баллов\n",
        "2. Все строчки должны быть выполнены. Нужно, чтобы output команды можно было увидеть уже в git'е. В противном случае -0.5 баллов\n"
      ]
    },
    {
      "cell_type": "code",
      "metadata": {
        "collapsed": true,
        "id": "sVRelMsvBcIa"
      },
      "source": [
        "import numpy as np\n",
        "import matplotlib.pyplot as plt\n",
        "\n",
        "import seaborn as sns\n",
        "from sklearn import datasets\n",
        "from sklearn.base import BaseEstimator\n",
        "from sklearn.datasets import fetch_openml, fetch_20newsgroups\n",
        "\n",
        "from sklearn.model_selection import train_test_split, cross_val_score, KFold\n",
        "from sklearn.neighbors import KNeighborsClassifier\n",
        "from sklearn.metrics import accuracy_score\n",
        "from sklearn.feature_extraction.text import CountVectorizer\n",
        "from sklearn.feature_extraction.text import TfidfVectorizer"
      ],
      "execution_count": 1,
      "outputs": []
    },
    {
      "cell_type": "markdown",
      "metadata": {
        "id": "OH5zop7SBcIa"
      },
      "source": [
        "##### Задание 1 (1 балл)\n",
        "Реализовать KNN в классе MyKNeighborsClassifier (обязательное условие: точность не ниже sklearn реализации)\n",
        "Разберитесь самостоятельно, какая мера расстояния используется в KNeighborsClassifier дефолтно и реализуйте свой алгоритм именно с этой мерой. \n",
        "Для подсчета расстояний можно использовать функции [отсюда](https://docs.scipy.org/doc/scipy/reference/spatial.distance.html)"
      ]
    },
    {
      "cell_type": "code",
      "metadata": {
        "collapsed": true,
        "id": "ek-c2va0BcIb"
      },
      "source": [
        "class MyKNeighborsClassifier(BaseEstimator):\n",
        "    \n",
        "    def __init__(self, n_neighbors, algorithm='brute'):\n",
        "        self.neighbors = n_neighbors\n",
        "        self.algorithm = algorithm\n",
        "    \n",
        "    def fit(self, X, y):\n",
        "        self.X = X\n",
        "        self.y = y\n",
        "    \n",
        "    def predict(self, X):\n",
        "        def dist (a, b):\n",
        "            return np.sum((a-b)**2, axis = 1)**0.5\n",
        "\n",
        "        def example_func(a):\n",
        "            return np.unique(a)[np.unique(a, return_counts = 'True')[1].argmax()]\n",
        "\n",
        "        pred = np.zeros(len(X))\n",
        "        distance = np.zeros(len(self.X))\n",
        "        j = 0\n",
        "        if self.algorithm == 'brute':\n",
        "            for testX in X:\n",
        "                distance = dist(testX, self.X)\n",
        "                neighb =  self.y[distance.argsort()][0:self.neighbors]\n",
        "                pred[j] = np.unique(neighb, return_counts='True')[0][np.argmax(np.unique(neighb, return_counts='True')[1])]\n",
        "                j+=1    \n",
        "\n",
        "        if self.algorithm == 'kd_tree':\n",
        "            tree = KDTree(self.X, leaf_size=2)              \n",
        "            dist, ind = tree.query(X, k=self.neighbors)\n",
        "            pred = np.apply_along_axis(example_func , axis=1, arr=y_train[ind])     \n",
        "        \n",
        "        return pred"
      ],
      "execution_count": 2,
      "outputs": []
    },
    {
      "cell_type": "markdown",
      "metadata": {
        "id": "ETpUlrBNBcIb"
      },
      "source": [
        "**IRIS**\n",
        "\n",
        "В библиотеке scikit-learn есть несколько датасетов из коробки. Один из них [Ирисы Фишера](https://ru.wikipedia.org/wiki/%D0%98%D1%80%D0%B8%D1%81%D1%8B_%D0%A4%D0%B8%D1%88%D0%B5%D1%80%D0%B0)"
      ]
    },
    {
      "cell_type": "code",
      "metadata": {
        "collapsed": true,
        "id": "kDSCloyABcIb"
      },
      "source": [
        "iris = datasets.load_iris()"
      ],
      "execution_count": 3,
      "outputs": []
    },
    {
      "cell_type": "code",
      "metadata": {
        "collapsed": true,
        "id": "7qKafcZPBcIb"
      },
      "source": [
        "X_train, X_test, y_train, y_test = train_test_split(iris.data, iris.target, test_size=0.1, stratify=iris.target)"
      ],
      "execution_count": 4,
      "outputs": []
    },
    {
      "cell_type": "code",
      "metadata": {
        "colab": {
          "base_uri": "https://localhost:8080/"
        },
        "id": "pBj6N0lC3DHA",
        "outputId": "f6ec1004-337c-4d46-e4ce-82c1f23ae433"
      },
      "source": [
        "from sklearn.neighbors import KDTree\n",
        "tree = KDTree(X_train, leaf_size=2)              \n",
        "dist, ind = tree.query(X_test, k=2)   \n",
        "def example_func(a):\n",
        "   return np.unique(a)[np.unique(a, return_counts = 'True')[1].argmax()]\n",
        "pred = np.apply_along_axis(example_func , axis=1, arr=y_train[ind])\n",
        "pred"
      ],
      "execution_count": 5,
      "outputs": [
        {
          "output_type": "execute_result",
          "data": {
            "text/plain": [
              "array([2, 1, 1, 2, 2, 0, 1, 0, 0, 0, 2, 1, 0, 1, 1])"
            ]
          },
          "metadata": {
            "tags": []
          },
          "execution_count": 5
        }
      ]
    },
    {
      "cell_type": "code",
      "metadata": {
        "collapsed": true,
        "id": "4AZtubCTBcIc"
      },
      "source": [
        "clf = KNeighborsClassifier(n_neighbors=2, algorithm='brute')\n",
        "my_clf = MyKNeighborsClassifier(n_neighbors=2, algorithm='brute')"
      ],
      "execution_count": 6,
      "outputs": []
    },
    {
      "cell_type": "code",
      "metadata": {
        "collapsed": true,
        "id": "IbrSusjzBcIc"
      },
      "source": [
        "clf.fit(X_train, y_train)\n",
        "my_clf.fit(X_train, y_train)"
      ],
      "execution_count": 7,
      "outputs": []
    },
    {
      "cell_type": "code",
      "metadata": {
        "collapsed": true,
        "id": "s-aj3Gm3BcIc"
      },
      "source": [
        "sklearn_pred = clf.predict(X_test)\n",
        "my_clf_pred = my_clf.predict(X_test)\n",
        "assert abs( accuracy_score(y_test, my_clf_pred) -  accuracy_score(y_test, sklearn_pred ) )<0.005, \"Score must be simillar\""
      ],
      "execution_count": 8,
      "outputs": []
    },
    {
      "cell_type": "markdown",
      "metadata": {
        "id": "GE109O3nBcIc"
      },
      "source": [
        "**Задание 2 (0.5 балла)**\n",
        "\n",
        "Давайте попробуем добиться скорости работы на fit, predict сравнимой со sklearn для iris. Допускается замедление не более чем в 2 раза. \n",
        "Для этого используем numpy. "
      ]
    },
    {
      "cell_type": "code",
      "metadata": {
        "collapsed": true,
        "colab": {
          "base_uri": "https://localhost:8080/"
        },
        "id": "xZui769-BcIc",
        "outputId": "9c68d8a8-655b-4e74-f7e0-d0078ed9d20e"
      },
      "source": [
        "%time clf.fit(X_train, y_train)"
      ],
      "execution_count": 9,
      "outputs": [
        {
          "output_type": "stream",
          "text": [
            "CPU times: user 670 µs, sys: 0 ns, total: 670 µs\n",
            "Wall time: 523 µs\n"
          ],
          "name": "stdout"
        },
        {
          "output_type": "execute_result",
          "data": {
            "text/plain": [
              "KNeighborsClassifier(algorithm='brute', leaf_size=30, metric='minkowski',\n",
              "                     metric_params=None, n_jobs=None, n_neighbors=2, p=2,\n",
              "                     weights='uniform')"
            ]
          },
          "metadata": {
            "tags": []
          },
          "execution_count": 9
        }
      ]
    },
    {
      "cell_type": "code",
      "metadata": {
        "collapsed": true,
        "colab": {
          "base_uri": "https://localhost:8080/"
        },
        "id": "1R3KAprJBcId",
        "outputId": "f12ba95d-e2a4-472b-c108-b9f527469ff6"
      },
      "source": [
        "%time my_clf.fit(X_train, y_train)"
      ],
      "execution_count": 10,
      "outputs": [
        {
          "output_type": "stream",
          "text": [
            "CPU times: user 3 µs, sys: 1 µs, total: 4 µs\n",
            "Wall time: 5.96 µs\n"
          ],
          "name": "stdout"
        }
      ]
    },
    {
      "cell_type": "code",
      "metadata": {
        "collapsed": true,
        "colab": {
          "base_uri": "https://localhost:8080/"
        },
        "id": "r9zEPK0RBcId",
        "outputId": "24b28740-8ca1-4b42-95bf-cc284fd2e283"
      },
      "source": [
        "%time clf.predict(X_test)"
      ],
      "execution_count": 11,
      "outputs": [
        {
          "output_type": "stream",
          "text": [
            "CPU times: user 1.9 ms, sys: 0 ns, total: 1.9 ms\n",
            "Wall time: 3.53 ms\n"
          ],
          "name": "stdout"
        },
        {
          "output_type": "execute_result",
          "data": {
            "text/plain": [
              "array([2, 1, 1, 2, 2, 0, 1, 0, 0, 0, 2, 1, 0, 1, 1])"
            ]
          },
          "metadata": {
            "tags": []
          },
          "execution_count": 11
        }
      ]
    },
    {
      "cell_type": "code",
      "metadata": {
        "collapsed": true,
        "colab": {
          "base_uri": "https://localhost:8080/"
        },
        "id": "sKEvrbXcBcId",
        "outputId": "703a30a4-17a4-4536-bb2c-d59a3a9a965c"
      },
      "source": [
        "%time my_clf.predict(X_test)"
      ],
      "execution_count": 12,
      "outputs": [
        {
          "output_type": "stream",
          "text": [
            "CPU times: user 1.89 ms, sys: 934 µs, total: 2.83 ms\n",
            "Wall time: 2.93 ms\n"
          ],
          "name": "stdout"
        },
        {
          "output_type": "execute_result",
          "data": {
            "text/plain": [
              "array([2., 1., 1., 2., 2., 0., 1., 0., 0., 0., 2., 1., 0., 1., 1.])"
            ]
          },
          "metadata": {
            "tags": []
          },
          "execution_count": 12
        }
      ]
    },
    {
      "cell_type": "markdown",
      "metadata": {
        "id": "e1lQmfGEBcId"
      },
      "source": [
        "###### Задание 3 (1 балл)\n",
        "Добавьте algorithm='kd_tree' в реализацию KNN (использовать KDTree из sklearn.neighbors). Необходимо добиться скорости работы на fit,  predict сравнимой со sklearn для iris. Допускается замедление не более чем в 2 раза. \n",
        "Для этого используем numpy. Точность не должна уступать значению KNN из sklearn. "
      ]
    },
    {
      "cell_type": "code",
      "metadata": {
        "collapsed": true,
        "id": "cKt_DkKHBcId"
      },
      "source": [
        "clf = KNeighborsClassifier(n_neighbors=2, algorithm='kd_tree')\n",
        "my_clf = MyKNeighborsClassifier(n_neighbors=2, algorithm='kd_tree')"
      ],
      "execution_count": 13,
      "outputs": []
    },
    {
      "cell_type": "code",
      "metadata": {
        "collapsed": true,
        "id": "TI8ozERKBcId"
      },
      "source": [
        "X_train, X_test, y_train, y_test = train_test_split(iris.data, iris.target, test_size=0.1, stratify=iris.target)"
      ],
      "execution_count": 14,
      "outputs": []
    },
    {
      "cell_type": "code",
      "metadata": {
        "collapsed": true,
        "colab": {
          "base_uri": "https://localhost:8080/"
        },
        "id": "-664UwqABcIe",
        "outputId": "3e58c0a0-be7e-4cb3-a74a-0da6246592b8"
      },
      "source": [
        "%time clf.fit(X_train, y_train)"
      ],
      "execution_count": 15,
      "outputs": [
        {
          "output_type": "stream",
          "text": [
            "CPU times: user 2.04 ms, sys: 0 ns, total: 2.04 ms\n",
            "Wall time: 4.64 ms\n"
          ],
          "name": "stdout"
        },
        {
          "output_type": "execute_result",
          "data": {
            "text/plain": [
              "KNeighborsClassifier(algorithm='kd_tree', leaf_size=30, metric='minkowski',\n",
              "                     metric_params=None, n_jobs=None, n_neighbors=2, p=2,\n",
              "                     weights='uniform')"
            ]
          },
          "metadata": {
            "tags": []
          },
          "execution_count": 15
        }
      ]
    },
    {
      "cell_type": "code",
      "metadata": {
        "collapsed": true,
        "colab": {
          "base_uri": "https://localhost:8080/"
        },
        "id": "ftcbpDP5BcIe",
        "outputId": "779d122d-9e60-4f16-bd44-580ffb03ac60"
      },
      "source": [
        "%time my_clf.fit(X_train, y_train)"
      ],
      "execution_count": 16,
      "outputs": [
        {
          "output_type": "stream",
          "text": [
            "CPU times: user 5 µs, sys: 0 ns, total: 5 µs\n",
            "Wall time: 6.44 µs\n"
          ],
          "name": "stdout"
        }
      ]
    },
    {
      "cell_type": "code",
      "metadata": {
        "collapsed": true,
        "colab": {
          "base_uri": "https://localhost:8080/"
        },
        "id": "KGryEKlgBcIe",
        "outputId": "cc9009d0-9ef8-4df2-c8dc-0ab1560970f8"
      },
      "source": [
        "%time clf.predict(X_test)"
      ],
      "execution_count": 17,
      "outputs": [
        {
          "output_type": "stream",
          "text": [
            "CPU times: user 3.16 ms, sys: 781 µs, total: 3.94 ms\n",
            "Wall time: 4.71 ms\n"
          ],
          "name": "stdout"
        },
        {
          "output_type": "execute_result",
          "data": {
            "text/plain": [
              "array([2, 1, 2, 2, 1, 0, 1, 2, 0, 1, 2, 0, 0, 0, 1])"
            ]
          },
          "metadata": {
            "tags": []
          },
          "execution_count": 17
        }
      ]
    },
    {
      "cell_type": "code",
      "metadata": {
        "collapsed": true,
        "colab": {
          "base_uri": "https://localhost:8080/"
        },
        "id": "Wfj9o6NaBcIe",
        "outputId": "26f1489a-14b8-4493-a21c-23d1e05ec028"
      },
      "source": [
        "%time my_clf.predict(X_test)"
      ],
      "execution_count": 18,
      "outputs": [
        {
          "output_type": "stream",
          "text": [
            "CPU times: user 2.49 ms, sys: 127 µs, total: 2.62 ms\n",
            "Wall time: 2.57 ms\n"
          ],
          "name": "stdout"
        },
        {
          "output_type": "execute_result",
          "data": {
            "text/plain": [
              "array([2, 1, 2, 2, 1, 0, 1, 2, 0, 1, 2, 0, 0, 0, 1])"
            ]
          },
          "metadata": {
            "tags": []
          },
          "execution_count": 18
        }
      ]
    },
    {
      "cell_type": "code",
      "metadata": {
        "collapsed": true,
        "id": "xu0JRFC9BcIe"
      },
      "source": [
        "sklearn_pred = clf.predict(X_test)\n",
        "my_clf_pred = my_clf.predict(X_test)\n",
        "assert abs( accuracy_score(y_test, my_clf_pred) -  accuracy_score(y_test, sklearn_pred ) )<0.005, \"Score must be simillar\""
      ],
      "execution_count": 19,
      "outputs": []
    },
    {
      "cell_type": "markdown",
      "metadata": {
        "id": "ej4mjLPNBcIe"
      },
      "source": [
        "**Задание 4 (2.5 балла)**\n",
        "\n",
        "Рассмотрим новый датасет 20 newsgroups"
      ]
    },
    {
      "cell_type": "code",
      "metadata": {
        "collapsed": true,
        "id": "oHvor-gABcIe"
      },
      "source": [
        "newsgroups = fetch_20newsgroups(subset='train',remove=['headers','footers', 'quotes'])"
      ],
      "execution_count": 20,
      "outputs": []
    },
    {
      "cell_type": "code",
      "metadata": {
        "collapsed": true,
        "id": "ZcDvyk0_BcIf"
      },
      "source": [
        "data = newsgroups['data']\n",
        "target = newsgroups['target']"
      ],
      "execution_count": 21,
      "outputs": []
    },
    {
      "cell_type": "markdown",
      "metadata": {
        "id": "lCO-ORpCBcIf"
      },
      "source": [
        "Преобразуйте текстовые данные из data с помощью [CountVectorizer](https://scikit-learn.org/stable/modules/generated/sklearn.feature_extraction.text.CountVectorizer.html). Словарь можно ограничить по частотности."
      ]
    },
    {
      "cell_type": "code",
      "metadata": {
        "collapsed": true,
        "id": "DVL2Sf-tBcIf"
      },
      "source": [
        "vectorizer = CountVectorizer(max_features = 10000)\n",
        "X = vectorizer.fit_transform(data)"
      ],
      "execution_count": 22,
      "outputs": []
    },
    {
      "cell_type": "markdown",
      "metadata": {
        "id": "Imjxy2UjBcIf"
      },
      "source": [
        "*Так мы получили векторное представление наших текстов. Значит можно приступать к задаче обучения модели*"
      ]
    },
    {
      "cell_type": "markdown",
      "metadata": {
        "id": "0oJfbHIIBcIf"
      },
      "source": [
        "Реализуйте разбиение выборки для кросс-валидации на 3 фолдах. Разрешено использовать sklearn.cross_validation"
      ]
    },
    {
      "cell_type": "code",
      "metadata": {
        "collapsed": true,
        "id": "h8nOFUPRBcIf",
        "colab": {
          "base_uri": "https://localhost:8080/"
        },
        "outputId": "feed1983-4b95-4081-9334-6168579a8a60"
      },
      "source": [
        "kf = KFold(n_splits=3, shuffle = True)\n",
        "for train, test in kf.split(X):\n",
        "    print(train, test)"
      ],
      "execution_count": 23,
      "outputs": [
        {
          "output_type": "stream",
          "text": [
            "[    0     1     2 ... 11311 11312 11313] [    3     5     6 ... 11304 11306 11307]\n",
            "[    3     5     6 ... 11308 11309 11310] [    0     1     2 ... 11311 11312 11313]\n",
            "[    0     1     2 ... 11311 11312 11313] [    7     8    10 ... 11308 11309 11310]\n"
          ],
          "name": "stdout"
        }
      ]
    },
    {
      "cell_type": "markdown",
      "metadata": {
        "id": "5XWZoFIABcIf"
      },
      "source": [
        "Напишите метод, позволяющий найти оптимальное количество ближайших соседей(дающее максимальную точность в среднем на валидации на 3 фолдах).\n",
        "Постройте график зависимости средней точности от количества соседей. Можно рассмотреть число соседей от 1 до 10."
      ]
    },
    {
      "cell_type": "code",
      "metadata": {
        "collapsed": true,
        "id": "rrS5X5_XBcIg"
      },
      "source": [
        "def score_euc(X ,y , n_neighbours):\n",
        "    clf = KNeighborsClassifier(n_neighbors=n_neighbours, algorithm='brute', metric='euclidean')\n",
        "    pred = []\n",
        "    for train, test in kf.split(X):\n",
        "        clf.fit(X[train], y[train])\n",
        "        pred.append(accuracy_score(y[test], clf.predict(X[test])))\n",
        "    return np.mean(pred)"
      ],
      "execution_count": 24,
      "outputs": []
    },
    {
      "cell_type": "code",
      "metadata": {
        "id": "3aeZmXJetuD6"
      },
      "source": [
        "scores_euc = []\n",
        "for i in range(1,31):\n",
        "    scores_euc.append(score_euc(X, target, i))"
      ],
      "execution_count": 25,
      "outputs": []
    },
    {
      "cell_type": "code",
      "metadata": {
        "colab": {
          "base_uri": "https://localhost:8080/"
        },
        "id": "josE1jsqvHGf",
        "outputId": "b450b293-9f48-4e12-cbd6-4adf2d5c8d75"
      },
      "source": [
        "optimal = np.argmax(scores_euc) + 1\n",
        "print ('Оптимальное количество соседей: ', optimal)"
      ],
      "execution_count": 26,
      "outputs": [
        {
          "output_type": "stream",
          "text": [
            "Оптимальное количество соседей:  1\n"
          ],
          "name": "stdout"
        }
      ]
    },
    {
      "cell_type": "code",
      "metadata": {
        "colab": {
          "base_uri": "https://localhost:8080/",
          "height": 350
        },
        "id": "YJ8-fLlftOS1",
        "outputId": "ee6f8aa2-e63a-48a3-fca9-95aceb9f4164"
      },
      "source": [
        "plt.figure(figsize=(15, 5))\n",
        "plt.title(\"График зависимости средней точности от количества соседей\")\n",
        "plt.xticks(range(1,31))\n",
        "plt.plot(range(1,31), scores_euc)\n",
        "plt.xlabel('Число соседей')\n",
        "plt.ylabel('Score')\n",
        "plt.show()"
      ],
      "execution_count": 27,
      "outputs": [
        {
          "output_type": "display_data",
          "data": {
            "image/png": "[encoded data removed]",
            "text/plain": [
              "<Figure size 1080x360 with 1 Axes>"
            ]
          },
          "metadata": {
            "tags": [],
            "needs_background": "light"
          }
        }
      ]
    },
    {
      "cell_type": "markdown",
      "metadata": {
        "id": "v7fNezVtBcIg"
      },
      "source": [
        "Как изменится качество на валидации, если:\n",
        "\n",
        "1. Используется косинусная метрика вместо евклидовой.\n",
        "2. К текстам применяется TfIdf векторизацию( sklearn.feature_extraction.text.TfidfVectorizer)\n",
        "\n",
        "Сравните модели, выберите лучшую."
      ]
    },
    {
      "cell_type": "code",
      "metadata": {
        "id": "_IdgmIZowsj1"
      },
      "source": [
        "def score_cos(X ,y , n_neighbours):\n",
        "    clf = KNeighborsClassifier(n_neighbors=n_neighbours, algorithm='brute', metric='cosine')\n",
        "    pred = []\n",
        "    for train, test in kf.split(X):\n",
        "        clf.fit(X[train], y[train])\n",
        "        pred.append(accuracy_score(y[test], clf.predict(X[test])))\n",
        "    return np.mean(pred)"
      ],
      "execution_count": 28,
      "outputs": []
    },
    {
      "cell_type": "code",
      "metadata": {
        "id": "C6qPrR-5xQL1"
      },
      "source": [
        "scores_cos = []\n",
        "for i in range(1,31):\n",
        "    scores_cos.append(score_cos(X, target, i))"
      ],
      "execution_count": 29,
      "outputs": []
    },
    {
      "cell_type": "code",
      "metadata": {
        "id": "jw5_v3VJxirk"
      },
      "source": [
        "vectorizer2 = TfidfVectorizer(max_features = 10000)\n",
        "X2 = vectorizer2.fit_transform(data)\n",
        "scores_TfIdf_euc = []\n",
        "scores_TfIdf_cos = []\n",
        "for i in range(1,31):\n",
        "    scores_TfIdf_cos.append(score_cos(X2, target, i))\n",
        "for i in range(1,31):\n",
        "    scores_TfIdf_euc.append(score_euc(X2, target, i))"
      ],
      "execution_count": 30,
      "outputs": []
    },
    {
      "cell_type": "code",
      "metadata": {
        "colab": {
          "base_uri": "https://localhost:8080/",
          "height": 621
        },
        "id": "lr3_ieigyc40",
        "outputId": "e397f669-42f4-4d38-9c26-daf6246c2ab1"
      },
      "source": [
        "plt.figure(figsize=(20, 10))\n",
        "\n",
        "plt.subplot(2, 2, 1)\n",
        "plt.title(\"CountVectorizer, euclidian\")\n",
        "plt.xticks(range(1,31))\n",
        "plt.plot(range(1,31), scores_euc)\n",
        "plt.xlabel('Число соседей')\n",
        "plt.ylabel('Score')\n",
        "\n",
        "plt.subplot(2, 2, 2)\n",
        "plt.title(\"CountVectorizer, cosine\")\n",
        "plt.xticks(range(1,31))\n",
        "plt.plot(range(1,31), scores_cos)\n",
        "plt.xlabel('Число соседей')\n",
        "plt.ylabel('Score')\n",
        "\n",
        "plt.subplot(2, 2, 3)\n",
        "plt.title(\"TfidfVectorizer, euclidian\")\n",
        "plt.xticks(range(1,31))\n",
        "plt.plot(range(1,31), scores_TfIdf_euc)\n",
        "plt.xlabel('Число соседей')\n",
        "plt.ylabel('Score')\n",
        "\n",
        "plt.subplot(2, 2, 4)\n",
        "plt.title(\"TfidfVectorizer, cosine\")\n",
        "plt.xticks(range(1,31))\n",
        "plt.plot(range(1,31), scores_TfIdf_cos)\n",
        "plt.xlabel('Число соседей')\n",
        "plt.ylabel('Score')\n",
        "\n",
        "plt.show()"
      ],
      "execution_count": 31,
      "outputs": [
        {
          "output_type": "display_data",
          "data": {
            "image/png": "[encoded data removed]",
            "text/plain": [
              "<Figure size 1440x720 with 4 Axes>"
            ]
          },
          "metadata": {
            "tags": [],
            "needs_background": "light"
          }
        }
      ]
    },
    {
      "cell_type": "code",
      "metadata": {
        "colab": {
          "base_uri": "https://localhost:8080/"
        },
        "id": "F2RtOImz_mhm",
        "outputId": "567a50cf-0c9f-4ec5-cf01-8ef551656a24"
      },
      "source": [
        "d = {}\n",
        "names = [\"CountVectorizer, euclidian\", \"TfidfVectorizer, euclidian\", \"CountVectorizer, cosine\", \"TfidfVectorizer, cosine\"]\n",
        "d[\"CountVectorizer, euclidian\"] = scores_euc\n",
        "d[\"TfidfVectorizer, euclidian\"] = scores_TfIdf_euc\n",
        "d[\"CountVectorizer, cosine\"] = scores_cos\n",
        "d[\"TfidfVectorizer, cosine\"] = scores_TfIdf_cos\n",
        "opt1 = names[np.argmax([max(d[\"CountVectorizer, euclidian\"]), max(d[\"CountVectorizer, cosine\"]), max(d[\"TfidfVectorizer, euclidian\"]), max(d[\"TfidfVectorizer, cosine\"])])]\n",
        "opt2 = np.argmax(d[opt1]) + 1\n",
        "print('Оптимальная модель: ', opt1, ' с количеством соседей :', opt2)"
      ],
      "execution_count": 32,
      "outputs": [
        {
          "output_type": "stream",
          "text": [
            "Оптимальная модель:  TfidfVectorizer, cosine  с количеством соседей : 12\n"
          ],
          "name": "stdout"
        }
      ]
    },
    {
      "cell_type": "markdown",
      "metadata": {
        "id": "eRxK1ACXBcIg"
      },
      "source": [
        "Загрузим  теперь test  часть нашей выборки и преобразуем её аналогично с train частью. Не забудьте, что наборы слов в train и test части могут отличаться."
      ]
    },
    {
      "cell_type": "code",
      "metadata": {
        "collapsed": true,
        "id": "Ebx3ovgWBcIg"
      },
      "source": [
        "newsgroups_test = fetch_20newsgroups(subset='test',remove=['headers','footers', 'quotes'])"
      ],
      "execution_count": 33,
      "outputs": []
    },
    {
      "cell_type": "markdown",
      "metadata": {
        "id": "Gv8qYDXmBcIg"
      },
      "source": [
        "Оценим точность вашей лучшей модели на test части датасета. Отличается ли оно от кросс-валидации? Попробуйте сделать выводы, почему отличается качество."
      ]
    },
    {
      "cell_type": "code",
      "metadata": {
        "collapsed": true,
        "id": "t5ax43jSBcIg",
        "colab": {
          "base_uri": "https://localhost:8080/"
        },
        "outputId": "877d2cd5-0745-4d8f-f12b-eb5571b317cc"
      },
      "source": [
        "data2 = newsgroups_test['data']\n",
        "target2 = newsgroups_test['target']\n",
        "X3 = vectorizer2.fit_transform(data2)\n",
        "clf = KNeighborsClassifier(n_neighbors=opt2, algorithm='brute', metric='cosine')\n",
        "clf.fit(X2,target)\n",
        "accuracy_score(target2, clf.predict(X3))"
      ],
      "execution_count": 35,
      "outputs": [
        {
          "output_type": "execute_result",
          "data": {
            "text/plain": [
              "0.060807222517259694"
            ]
          },
          "metadata": {
            "tags": []
          },
          "execution_count": 35
        }
      ]
    },
    {
      "cell_type": "markdown",
      "metadata": {
        "id": "YKUoFMcb7w3Z"
      },
      "source": [
        "\n",
        "**Вывод:** Точность на тестовой выборке сильно меньше, так как тест и трейн выборки могут достаточно сильно отличаться. В случае с кросс - валидацией мы берём части одной и той же выборки, в то время как тест может быть другим.\n"
      ]
    }
  ]
}