{
 "cells": [
  {
   "cell_type": "markdown",
   "metadata": {
    "id": "S70y7xuyyDge"
   },
   "source": [
    "### Алгоритмы интеллектуальной обработки больших объемов данных\n",
    "## Домашнее задание №4 - Градиентный бустинг\n"
   ]
  },
  {
   "cell_type": "markdown",
   "metadata": {
    "id": "v48HUGrnyDgh"
   },
   "source": [
    "**Общая информация**\n",
    "\n",
    "**Срок сдачи:** 10 мая 2021, 08:30   \n",
    "**Штраф за опоздание:** -2 балла после 08:30 10 мая, -4 балла после 08:30 17 мая, -6 баллов после 08:30 24 мая, -8 баллов после 08:30 31 мая.\n",
    "\n",
    "При отправлении ДЗ указывайте фамилию в названии файла Присылать ДЗ необходимо в виде ссылки на свой github репозиторий на почту ml1.sphere@mail.ru с указанием темы в следующем формате:\n",
    "[ML0221, Задание 4] Фамилия Имя. \n",
    "\n",
    "\n",
    "Используйте данный Ipython Notebook при оформлении домашнего задания."
   ]
  },
  {
   "cell_type": "markdown",
   "metadata": {
    "id": "x48d2QIjyDgj"
   },
   "source": [
    "##  Считаем производные для функций потерь (1 балл)"
   ]
  },
  {
   "cell_type": "markdown",
   "metadata": {
    "id": "ePiOEzMQyDgj"
   },
   "source": [
    "Мы будем реализовать градиентный бустинг для 3 функций потерь:\n",
    "\n",
    "1) MSE  $L(a(x_i), y_i) = (y_i - a(x_i)) ^ 2$\n",
    "\n",
    "2) Экспоненциальная  $L(a(x_i), y_i) = exp( -a(x_i) y_i), y_i \\in \\{-1, 1\\}$\n",
    "\n",
    "3) Логистическая  $L(a(x_i), y_i) = \\log (1 + exp( -a(x_i) y_i)), y_i \\in \\{-1, 1\\}$\n",
    "\n",
    "где $a(x_i)$ предсказание бустинга на итом объекте. \n",
    "\n",
    "Для каждой функции потерь напишите таргет, на который будет настраиваться каждое дерево в бустинге. "
   ]
  },
  {
   "cell_type": "markdown",
   "metadata": {
    "id": "_OZuehrVyDgk"
   },
   "source": [
    "Ваше решение тут:\n",
    "\n",
    "1) MSE: $- \\frac{\\partial}{\\partial a(x_i)} L(a(x_i), y_i)) = 2 \\cdot (y_i - a(x_i))$.\n",
    "\n",
    "2) Экспоненциальная: $- \\frac{\\partial}{\\partial a(x_i)} L(a(x_i), y_i) = y_i \\cdot exp(-a(x_i)y_i)$\n",
    "\n",
    "3) Логистическая: $- \\frac{\\partial}{\\partial a(x_i)} L(a(x_i), y_i) = \\frac{ y_i \\cdot exp(-a(x_i)y_i)}{ 1 + exp(-a(x_i)y_i)}$\n"
   ]
  },
  {
   "cell_type": "markdown",
   "metadata": {
    "id": "4wC2qwM0yDgk"
   },
   "source": [
    "##  Реализуем градиентный бустинг (3 балла)"
   ]
  },
  {
   "cell_type": "markdown",
   "metadata": {
    "id": "BQLcPyMvyDgk"
   },
   "source": [
    "Реализуйте класс градиентного бустинга для классификации. Ваша реализация бустинга должна работать по точности не более чем на 5 процентов хуже чем GradientBoostingClassifier из sklearn. \n"
   ]
  },
  {
   "cell_type": "markdown",
   "metadata": {
    "id": "I_t18iJpyDgl"
   },
   "source": [
    "Детали реализации:\n",
    "\n",
    "-- должно поддерживаться 3 функции потерь\n",
    "\n",
    "-- сами базовые алгоритмы(деревья, линейные модели и тп) реализовать не надо, просто возьмите готовые из sklearn\n",
    "\n",
    "-- в качестве функции потерь для построения одного дерева используйте MSE\n",
    "\n",
    "-- шаг в бустинге можно не подбирать, можно брать константный\n",
    "\n",
    "-- можно брать разные модели в качестве инициализации бустинга\n",
    "\n",
    "-- должны поддерживаться следующие параметры:\n",
    "\n",
    "а) число итераций\n",
    "б) размер шага\n",
    "в) процент случайных фичей при построении одного дерева\n",
    "д) процент случайных объектов при построении одного дерева\n",
    "е) параметры базового алгоритма (передавайте через **kwargs)"
   ]
  },
  {
   "cell_type": "code",
   "execution_count": 1,
   "metadata": {
    "collapsed": true,
    "id": "qEOQyOSbyDgl"
   },
   "outputs": [],
   "source": [
    "import numpy as np\n",
    "\n",
    "from sklearn.datasets import load_wine\n",
    "from sklearn.ensemble import GradientBoostingClassifier\n",
    "from sklearn.metrics import accuracy_score\n",
    "from sklearn.model_selection import train_test_split\n",
    "from sklearn.tree import DecisionTreeRegressor\n",
    "from sklearn.utils import shuffle\n",
    "from sklearn.ensemble import RandomForestRegressor\n",
    "from sklearn.linear_model import LinearRegression\n",
    "from sklearn.svm import SVC"
   ]
  },
  {
   "cell_type": "code",
   "execution_count": 179,
   "metadata": {
    "collapsed": true,
    "id": "YrZgg64EyDgm"
   },
   "outputs": [],
   "source": [
    "class MyGradientBoostingClassifier:\n",
    "\n",
    "    def __init__(self, loss='mse', learning_rate=0.1, n_estimators=100, colsample=0.5, subsample=0.5, *args, **kwargs):\n",
    "        \"\"\"\n",
    "        loss -- один из 3 лоссов:\n",
    "        learning_rate -- шаг бустинга\n",
    "        n_estimators -- число итераций\n",
    "        colsample -- процент рандомных признаков при обучнеии одного алгоритма\n",
    "        subsample -- процент рандомных объектов при обучнеии одного алгоритма\n",
    "        args, kwargs -- параметры  базовых моделей\n",
    "        \"\"\"\n",
    "        self.loss = loss\n",
    "        self.learning_rate = learning_rate\n",
    "        self.n_estimators = n_estimators\n",
    "        self.colsample = colsample\n",
    "        self.subsample = subsample\n",
    "        self.args = args\n",
    "        self.kwargs = kwargs\n",
    "        self.models = []\n",
    "        self.features = []\n",
    "\n",
    "    def target(self, y, a):\n",
    "        if self.loss == 'mse':\n",
    "            return 2*(y - a)\n",
    "        elif self.loss == 'log':\n",
    "            return y*np.exp(- y*a) / (1 + np.exp(-y*a))\n",
    "        else:\n",
    "            return y*np.exp(-y*a)\n",
    "\n",
    "    def __choose_samples(self, a):\n",
    "        features_indexes = np.random.randint(self.X.shape[1], size = round(self.X.shape[1]*self.colsample))\n",
    "        self.features.append(features_indexes)\n",
    "        X_features = self.X[:, features_indexes]\n",
    "        objects_indexes = np.random.randint(self.X.shape[1], size = round(self.X.shape[1]*self.subsample))\n",
    "        X_sample = X_features[objects_indexes, :] \n",
    "        y_sample = self.y[objects_indexes]\n",
    "        a_sample = a[objects_indexes] \n",
    "        return X_sample, X_features, y_sample, a_sample\n",
    "\n",
    "    def fit(self, X, y, base_model = DecisionTreeRegressor, init_model=None):\n",
    "        \"\"\"\n",
    "        X -- объекты для обучения:\n",
    "        y -- таргеты для обучения\n",
    "        base_model -- класс базовых моделей, например sklearn.tree.DecisionTreeRegressor\n",
    "        init_model -- класс для первой модели, если None то берем константу (только для посл задания)\n",
    "        \"\"\"\n",
    "        self.X = np.array(X)\n",
    "        self.y = np.array(y)\n",
    "        if init_model is None:\n",
    "            a = np.mean(y) * np.ones([y.shape[0]])\n",
    "        else: \n",
    "            model = init_model(*self.args, **self.kwargs)\n",
    "            model.fit(X, y)\n",
    "            self.models.append(model)\n",
    "            self.features.append(list(range(X.shape[1])))\n",
    "            a = np.array(model.predict(X))\n",
    "        for estimator in range(self.n_estimators):\n",
    "            X_sample, X_features, y_sample, a_sample = self.__choose_samples(a)\n",
    "            model = base_model(*self.args, **self.kwargs)\n",
    "            model.fit(X_sample, self.target(y_sample, a_sample))\n",
    "            self.models.append(model)\n",
    "            prediction = np.asarray(model.predict(X_features))\n",
    "            a += self.learning_rate*prediction\n",
    "\n",
    "    def predict(self, X):\n",
    "        a = np.ones([X.shape[0]]) * np.mean(self.y)\n",
    "        for t in range(len(self.models)):\n",
    "            a += self.learning_rate*self.models[t].predict(X[:, self.features[t]])\n",
    "        return np.round(a)\n",
    "\n"
   ]
  },
  {
   "cell_type": "code",
   "execution_count": 180,
   "metadata": {
    "id": "Ue4wAtZByDgn"
   },
   "outputs": [],
   "source": [
    "my_clf = MyGradientBoostingClassifier()\n",
    "clf = GradientBoostingClassifier(random_state=0)"
   ]
  },
  {
   "cell_type": "code",
   "execution_count": 181,
   "metadata": {
    "collapsed": true,
    "id": "-g7lD2Z-yDgn"
   },
   "outputs": [],
   "source": [
    "wine = load_wine()\n",
    "X_train, X_test, y_train, y_test = train_test_split(wine.data, wine.target, test_size=0.1, stratify=wine.target, random_state=0)"
   ]
  },
  {
   "cell_type": "code",
   "execution_count": 182,
   "metadata": {
    "colab": {
     "base_uri": "https://localhost:8080/"
    },
    "id": "i3eCZNFoyDgn",
    "outputId": "11250e44-d35c-4a62-e55d-72a19e36bd0c"
   },
   "outputs": [
    {
     "name": "stdout",
     "output_type": "stream",
     "text": [
      "1.0\n",
      "1.0\n"
     ]
    }
   ],
   "source": [
    "my_clf.fit(X_train, y_train)\n",
    "clf.fit(X_train, y_train)\n",
    "print(accuracy_score(y_pred=clf.predict(X_test), y_true=y_test))\n",
    "print(accuracy_score(y_pred=my_clf.predict(X_test), y_true=y_test))"
   ]
  },
  {
   "cell_type": "markdown",
   "metadata": {
    "id": "mobg98S4yDgo"
   },
   "source": [
    "## Подбираем параметры (2 балла)\n",
    "\n",
    "Давайте попробуем применить Ваш бустинг для предсказаний цены домов в Калифорнии. Чтобы можно было попробовтаь разные функции потерь, переведем по порогу таргет в 2 класса: дорогие и дешевые дома."
   ]
  },
  {
   "cell_type": "markdown",
   "metadata": {
    "id": "EWQHjM03yDgo"
   },
   "source": [
    "В задании нужно\n",
    "\n",
    "1) Построить график точности в зависимости от числа итераций на валидации.\n",
    "\n",
    "2) Подобрать оптимальные параметры Вашего бустинга на валидации. \n"
   ]
  },
  {
   "cell_type": "code",
   "execution_count": 6,
   "metadata": {
    "colab": {
     "base_uri": "https://localhost:8080/"
    },
    "id": "41diDwlRyDgo",
    "outputId": "91f7de05-2341-4cca-f009-ed59b6202f6e"
   },
   "outputs": [
    {
     "name": "stderr",
     "output_type": "stream",
     "text": [
      "Downloading Cal. housing from https://ndownloader.figshare.com/files/5976036 to /root/scikit_learn_data\n"
     ]
    }
   ],
   "source": [
    "from sklearn.datasets import fetch_california_housing\n",
    "X, y = fetch_california_housing(return_X_y=True)"
   ]
  },
  {
   "cell_type": "code",
   "execution_count": 7,
   "metadata": {
    "colab": {
     "base_uri": "https://localhost:8080/"
    },
    "id": "3WdtOLInyDgp",
    "outputId": "1db962f7-2ec1-4086-af73-d526bbb98020"
   },
   "outputs": [
    {
     "name": "stdout",
     "output_type": "stream",
     "text": [
      "(20640, 8) (20640,)\n"
     ]
    }
   ],
   "source": [
    "# Превращаем регрессию в классификацию\n",
    "y = (y > 2.0).astype(int)\n",
    "print(X.shape, y.shape)"
   ]
  },
  {
   "cell_type": "code",
   "execution_count": 8,
   "metadata": {
    "collapsed": true,
    "id": "3Ii5IGagyDgp"
   },
   "outputs": [],
   "source": [
    "accuracy = []\n",
    "for n_estimators in range(1, 200, 5):\n",
    "    X_train, X_test, y_train, y_test = train_test_split(X, y, test_size=0.1, stratify=y)\n",
    "    my_clf = MyGradientBoostingClassifier(n_estimators=n_estimators)\n",
    "    my_clf.fit(X_train, y_train)\n",
    "    accuracy.append(accuracy_score(y_pred=my_clf.predict(X_test), y_true=y_test))"
   ]
  },
  {
   "cell_type": "code",
   "execution_count": 9,
   "metadata": {
    "colab": {
     "base_uri": "https://localhost:8080/",
     "height": 320
    },
    "id": "sl2ahYsOyDgq",
    "outputId": "395b56a5-0f92-4d8a-cee1-d081d2d6982e"
   },
   "outputs": [
    {
     "data": {
      "image/png": "[encoded data removed]",
      "text/plain": [
       "<Figure size 1008x360 with 1 Axes>"
      ]
     },
     "metadata": {
      "needs_background": "light",
      "tags": []
     },
     "output_type": "display_data"
    }
   ],
   "source": [
    "import matplotlib.pyplot as plt\n",
    "fig = plt.figure(figsize=(14,5))\n",
    "plt.plot(range(1, 200, 5), accuracy)\n",
    "plt.show()"
   ]
  },
  {
   "cell_type": "code",
   "execution_count": 10,
   "metadata": {
    "colab": {
     "base_uri": "https://localhost:8080/"
    },
    "id": "GemE_EMjDF5n",
    "outputId": "1c7740cb-5375-46be-efca-f83e9ab176d4"
   },
   "outputs": [
    {
     "data": {
      "text/plain": [
       "135"
      ]
     },
     "execution_count": 10,
     "metadata": {
      "tags": []
     },
     "output_type": "execute_result"
    }
   ],
   "source": [
    "best_n_estimators = np.argmax(accuracy)*5\n",
    "best_n_estimators"
   ]
  },
  {
   "cell_type": "code",
   "execution_count": 12,
   "metadata": {
    "colab": {
     "base_uri": "https://localhost:8080/"
    },
    "id": "4L6J7LncEZ6v",
    "outputId": "1c69f044-c429-480d-f6c4-ba3707484f9f"
   },
   "outputs": [
    {
     "name": "stdout",
     "output_type": "stream",
     "text": [
      "Best params:  ['mse', 1, 0.5, 0.1]  with score 0.877906976744186\n"
     ]
    }
   ],
   "source": [
    "params = []\n",
    "accuracy = []\n",
    "i = 1\n",
    "for loss in ['mse', 'exp', 'log']:\n",
    "    for subsample in [0.25, 0.5, 0.75, 1]:\n",
    "        for colsample in [0.25, 0.5, 0.75, 1]:\n",
    "            for learning_rate in [0.1, 0.3, 0.5]:\n",
    "                my_clf = MyGradientBoostingClassifier(n_estimators=best_n_estimators, loss = loss,\n",
    "                                                      subsample = subsample, colsample = colsample,\n",
    "                                                      learning_rate = learning_rate)\n",
    "                X_train, X_test, y_train, y_test = train_test_split(X, y, test_size=0.1,\n",
    "                                                        stratify=y)\n",
    "                my_clf.fit(X_train, y_train)\n",
    "                params.append([loss, subsample, colsample, learning_rate])\n",
    "                accuracy.append(accuracy_score(y_pred=my_clf.predict(X_test), y_true=y_test))\n",
    "print('Best params: ',params[np.argmax(accuracy)], ' with score', np.max(accuracy))"
   ]
  },
  {
   "cell_type": "markdown",
   "metadata": {
    "id": "X5uJCaHayDgq"
   },
   "source": [
    "## BooBag BagBoo (1 балл)\n",
    "\n"
   ]
  },
  {
   "cell_type": "markdown",
   "metadata": {
    "id": "wndMXne6yDgq"
   },
   "source": [
    "Попробуем объединить бустинг и бэгинг. Давайте\n",
    "\n",
    "1) в качестве базовой модели брать не дерево решений, а случайный лес (из sklearn)\n",
    "\n",
    "2) обучать N бустингов на бустрапированной выборке, а затем предикт усреднять"
   ]
  },
  {
   "cell_type": "markdown",
   "metadata": {
    "id": "Z51fiA2TyDgq"
   },
   "source": [
    "Попробуйте обе этих стратегии на данных из прошлого задания. Получилось ли улучшить качество? Почему?"
   ]
  },
  {
   "cell_type": "code",
   "execution_count": 17,
   "metadata": {
    "colab": {
     "base_uri": "https://localhost:8080/"
    },
    "id": "vXaBhCrXyDgr",
    "outputId": "a6d4feb9-5583-41f2-bf2c-ad00ec1a7117"
   },
   "outputs": [
    {
     "name": "stdout",
     "output_type": "stream",
     "text": [
      "Best score before: 0.8561046511627907\n",
      "Score with random forest as base model: 0.877422480620155\n",
      "Score with 10 boosting algorithms: 0.8783914728682171\n"
     ]
    }
   ],
   "source": [
    "X_train, X_test, y_train, y_test = train_test_split(X, y, test_size=0.1, stratify=y)\n",
    "\n",
    "my_clf = MyGradientBoostingClassifier(loss = 'mse', learning_rate = 0.1, n_estimators = 135, colsample = 0.5, subsample = 1)\n",
    "my_clf.fit(X_train, y_train)\n",
    "print(\"Best score before:\", accuracy_score(y_pred=my_clf.predict(X_test), y_true=y_test))\n",
    "\n",
    "my_clf = MyGradientBoostingClassifier('mse', 0.1, 135, 0.5, 1, 10)\n",
    "my_clf.fit(X_train, y_train, RandomForestRegressor)\n",
    "print(\"Score with random forest as base model:\", accuracy_score(y_pred=my_clf.predict(X_test), y_true=y_test))\n",
    "\n",
    "a = np.ones([X_test.shape[0]])*np.mean(y_train)\n",
    "for i in range(10):\n",
    "    indices = np.random.randint(0, len(y_train), (1, len(y_train)))[0]\n",
    "    X_samples = X_train[indices, :]\n",
    "    y_samples = y_train[indices]\n",
    "    my_clf = MyGradientBoostingClassifier(loss = 'mse', learning_rate = 0.1, n_estimators = 135, colsample = 0.5, subsample = 1)\n",
    "    my_clf.fit(X_samples, y_samples, DecisionTreeRegressor)\n",
    "    a += my_clf.predict(X_test)\n",
    "a = np.round(a / 10)\n",
    "print(\"Score with 10 boosting algorithms:\", accuracy_score(y_pred=a, y_true=y_test))"
   ]
  },
  {
   "cell_type": "markdown",
   "metadata": {
    "id": "o3C9unvC0Tpw"
   },
   "source": [
    "Оба алгоритма показали прирост результата."
   ]
  },
  {
   "cell_type": "markdown",
   "metadata": {
    "collapsed": true,
    "id": "c0I24hoPyDgr"
   },
   "source": [
    "## Умная инициализация (1 балл)\n",
    "\n",
    "Попробуйте брать в качестве инициализации бустинга не константу, а какой-то алгоритм и уже от его предикта стартовать итерации бустинга. Попробуйте разные модели из sklearn: линейные модели, рандом форест, svm..\n",
    "\n",
    "Получилось ли улучшить качество? Почему?\n",
    "\n"
   ]
  },
  {
   "cell_type": "code",
   "execution_count": 18,
   "metadata": {
    "colab": {
     "base_uri": "https://localhost:8080/"
    },
    "id": "Qnq_2lTYyDgs",
    "outputId": "5c2f57cc-0305-4177-e60c-2edc9459a5dd"
   },
   "outputs": [
    {
     "name": "stdout",
     "output_type": "stream",
     "text": [
      "Const init: 0.8488372093023255\n",
      "Linear Regression:  0.7848837209302325\n",
      "Random Forest:  0.8468992248062015\n",
      "SVC:  0.8449612403100775\n"
     ]
    }
   ],
   "source": [
    "X_train, X_test, y_train, y_test = train_test_split(X, y, test_size=0.1, stratify=y)\n",
    "\n",
    "my_clf = MyGradientBoostingClassifier(loss = 'mse', learning_rate = 0.1, n_estimators = 135, colsample = 0.5, subsample = 1)\n",
    "my_clf.fit(X_train, y_train, DecisionTreeRegressor, init_model = None)\n",
    "print(\"Const init:\", accuracy_score(y_pred=my_clf.predict(X_test), y_true=y_test))\n",
    "\n",
    "my_clf = MyGradientBoostingClassifier(loss = 'mse', learning_rate = 0.1, n_estimators = 135, colsample = 0.5, subsample = 1)\n",
    "my_clf.fit(X_train, y_train, DecisionTreeRegressor, init_model=LinearRegression)\n",
    "print(\"Linear Regression: \", accuracy_score(y_pred=my_clf.predict(X_test), y_true=y_test))\n",
    "\n",
    "my_clf = MyGradientBoostingClassifier(loss = 'mse', learning_rate = 0.1, n_estimators = 135, colsample = 0.5, subsample = 1)\n",
    "my_clf.fit(X_train, y_train, DecisionTreeRegressor, init_model=RandomForestRegressor)\n",
    "print(\"Random Forest: \", accuracy_score(y_pred=my_clf.predict(X_test), y_true=y_test))\n",
    "\n",
    "my_clf = MyGradientBoostingClassifier(loss = 'mse', learning_rate = 0.1, n_estimators = 135, colsample = 0.5, subsample = 1)\n",
    "my_clf.fit(X_train, y_train, DecisionTreeRegressor, init_model=SVC)\n",
    "print(\"SVC: \", accuracy_score(y_pred=my_clf.predict(X_test), y_true=y_test))"
   ]
  },
  {
   "cell_type": "markdown",
   "metadata": {
    "id": "T5_zZZ_V2GT6"
   },
   "source": [
    "По необъяснимой причине скор не увеличился."
   ]
  },
  {
   "cell_type": "markdown",
   "metadata": {
    "id": "h6q41yQpyDgs"
   },
   "source": [
    "## Фидбек (бесценно)"
   ]
  },
  {
   "cell_type": "markdown",
   "metadata": {
    "id": "1N8cgo3fyDgs"
   },
   "source": [
    "* Какие аспекты обучения  ансамблей Вам показались непонятными? Какое место стоит дополнительно объяснить?"
   ]
  },
  {
   "cell_type": "markdown",
   "metadata": {
    "id": "SVr7zLEVyDgs"
   },
   "source": [
    "### Ваш ответ здесь"
   ]
  },
  {
   "cell_type": "markdown",
   "metadata": {
    "id": "HIpLzMPryDgt"
   },
   "source": [
    "* Здесь Вы можете оставить отзыв о этой домашней работе или о всем курсе."
   ]
  },
  {
   "cell_type": "markdown",
   "metadata": {
    "id": "t90eh1P8yDgt"
   },
   "source": [
    "### ВАШ ОТЗЫВ ЗДЕСЬ\n",
    "\n"
   ]
  },
  {
   "cell_type": "code",
   "execution_count": 14,
   "metadata": {
    "collapsed": true,
    "id": "RCcC9yqEyDgt"
   },
   "outputs": [],
   "source": []
  }
 ],
 "metadata": {
  "anaconda-cloud": {},
  "colab": {
   "name": "hw4.ipynb",
   "provenance": []
  },
  "kernelspec": {
   "display_name": "Python 3",
   "language": "python",
   "name": "python3"
  },
  "language_info": {
   "codemirror_mode": {
    "name": "ipython",
    "version": 3
   },
   "file_extension": ".py",
   "mimetype": "text/x-python",
   "name": "python",
   "nbconvert_exporter": "python",
   "pygments_lexer": "ipython3",
   "version": "3.7.3"
  }
 },
 "nbformat": 4,
 "nbformat_minor": 1
}
